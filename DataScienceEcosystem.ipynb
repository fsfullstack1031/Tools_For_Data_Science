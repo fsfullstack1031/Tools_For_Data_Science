{
 "cells": [
  {
   "cell_type": "markdown",
   "id": "72fd282e-88f6-418c-bc5b-679823ff7b33",
   "metadata": {},
   "source": [
    "# Data Science Tools and Ecosystem\n",
    "### In this notebook, Data Science Tools and Ecosystem are summarized."
   ]
  },
  {
   "cell_type": "markdown",
   "id": "8b89078d-4c64-458a-991a-47675999db78",
   "metadata": {},
   "source": [
    "#### **Objectives:**\n",
    "- Name popular languages commonly used by Data Scientists.\n",
    "- Provide a list of commonly used libraries.\n",
    "- Name a few open source development environments used by Data Scientists.\n",
    "- Provide code demonstrations of basic arithmetic expressions."
   ]
  },
  {
   "cell_type": "markdown",
   "id": "8f946ffa-c18f-42ea-8beb-3cf97d86123d",
   "metadata": {
    "jp-MarkdownHeadingCollapsed": true
   },
   "source": [
    "#### Here is a list of common languages used by Data Scientists.\n",
    "\n",
    "1. Python\n",
    "2. R\n",
    "3. SQL\n",
    "\n",
    "##### Other notable languages used are Julia, Scala and Java, MATLAB and SAS, and C/C++."
   ]
  },
  {
   "cell_type": "markdown",
   "id": "238b622a-478b-4e2c-a5ad-9109e086263f",
   "metadata": {},
   "source": [
    "#### There are also libraries that are commonly used by Data Scientists, these are listed below.\n",
    "\n",
    "1. NumPy\n",
    "2. Pandas\n",
    "3. Matplotlib\n",
    "4. Scikit-learn\n",
    "5. TensorFlow\n",
    "6. SciPy\n",
    "\n",
    "##### The list of libraries used is rather extensive, I would suggest doing some research on each libraries purpose and fuctionality."
   ]
  },
  {
   "cell_type": "markdown",
   "id": "8429226b-ecd1-4b49-b595-5f48c197fc3e",
   "metadata": {},
   "source": [
    "| Data Science Tools |\n",
    "|---|\n",
    "| Jupyter Notebooks |\n",
    "| Visual Studio Code or VS Code |\n",
    "| R Studio |"
   ]
  },
  {
   "cell_type": "markdown",
   "id": "e6aec6a1-d083-4915-8659-d729a6253f1d",
   "metadata": {},
   "source": [
    "### Here are some examples of of how to evaluate arithmetic expressions using Python."
   ]
  },
  {
   "cell_type": "code",
   "execution_count": 2,
   "id": "47e4b71c-fc5d-4be6-bdcf-59cf15323b05",
   "metadata": {},
   "outputs": [
    {
     "data": {
      "text/plain": [
       "17"
      ]
     },
     "execution_count": 2,
     "metadata": {},
     "output_type": "execute_result"
    }
   ],
   "source": [
    "# This is a simple arithmetic expression demonstrating how to multiply and then add integers.\n",
    "(3*4)+5"
   ]
  },
  {
   "cell_type": "code",
   "execution_count": 3,
   "id": "7c18015c-2137-41e2-bf89-02b7e0c6a152",
   "metadata": {},
   "outputs": [
    {
     "data": {
      "text/plain": [
       "3.3333333333333335"
      ]
     },
     "execution_count": 3,
     "metadata": {},
     "output_type": "execute_result"
    }
   ],
   "source": [
    "# This expression will demonstrate how to convert 200 minutes into hours format by dividing by 60.\n",
    "200/60"
   ]
  },
  {
   "cell_type": "markdown",
   "id": "d54a95d5-3171-40fe-a112-4f1f5dac1e48",
   "metadata": {},
   "source": [
    "## Author\n",
    "Frank Seago"
   ]
  },
  {
   "cell_type": "code",
   "execution_count": null,
   "id": "ec2ec24f-9f2c-4857-86f9-2c4a2d9acdfa",
   "metadata": {},
   "outputs": [],
   "source": []
  }
 ],
 "metadata": {
  "kernelspec": {
   "display_name": "anaconda-panel-2023.05-py310",
   "language": "python",
   "name": "conda-env-anaconda-panel-2023.05-py310-py"
  },
  "language_info": {
   "codemirror_mode": {
    "name": "ipython",
    "version": 3
   },
   "file_extension": ".py",
   "mimetype": "text/x-python",
   "name": "python",
   "nbconvert_exporter": "python",
   "pygments_lexer": "ipython3",
   "version": "3.11.5"
  }
 },
 "nbformat": 4,
 "nbformat_minor": 5
}
